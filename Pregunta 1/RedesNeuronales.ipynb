{
  "nbformat": 4,
  "nbformat_minor": 0,
  "metadata": {
    "colab": {
      "provenance": []
    },
    "kernelspec": {
      "name": "python3",
      "display_name": "Python 3"
    },
    "language_info": {
      "name": "python"
    }
  },
  "cells": [
    {
      "cell_type": "code",
      "execution_count": null,
      "metadata": {
        "id": "M071LxtVeC4w"
      },
      "outputs": [],
      "source": [
        "import numpy as np\n",
        "import matplotlib.pyplot as plt\n",
        "from sklearn.datasets import load_iris"
      ]
    },
    {
      "cell_type": "code",
      "source": [
        "flowers = load_iris()"
      ],
      "metadata": {
        "id": "1IerB7yFjdy0"
      },
      "execution_count": null,
      "outputs": []
    },
    {
      "cell_type": "code",
      "source": [
        "flowers.DESCR"
      ],
      "metadata": {
        "colab": {
          "base_uri": "https://localhost:8080/",
          "height": 145
        },
        "id": "Z5oBGkV9jig0",
        "outputId": "b06df0ab-1c68-4f99-a8d0-3c2986227cca"
      },
      "execution_count": null,
      "outputs": [
        {
          "output_type": "execute_result",
          "data": {
            "text/plain": [
              "'.. _iris_dataset:\\n\\nIris plants dataset\\n--------------------\\n\\n**Data Set Characteristics:**\\n\\n    :Number of Instances: 150 (50 in each of three classes)\\n    :Number of Attributes: 4 numeric, predictive attributes and the class\\n    :Attribute Information:\\n        - sepal length in cm\\n        - sepal width in cm\\n        - petal length in cm\\n        - petal width in cm\\n        - class:\\n                - Iris-Setosa\\n                - Iris-Versicolour\\n                - Iris-Virginica\\n                \\n    :Summary Statistics:\\n\\n    ============== ==== ==== ======= ===== ====================\\n                    Min  Max   Mean    SD   Class Correlation\\n    ============== ==== ==== ======= ===== ====================\\n    sepal length:   4.3  7.9   5.84   0.83    0.7826\\n    sepal width:    2.0  4.4   3.05   0.43   -0.4194\\n    petal length:   1.0  6.9   3.76   1.76    0.9490  (high!)\\n    petal width:    0.1  2.5   1.20   0.76    0.9565  (high!)\\n    ============== ==== ==== ======= ===== ====================\\n\\n    :Missing Attribute Values: None\\n    :Class Distribution: 33.3% for each of 3 classes.\\n    :Creator: R.A. Fisher\\n    :Donor: Michael Marshall (MARSHALL%PLU@io.arc.nasa.gov)\\n    :Date: July, 1988\\n\\nThe famous Iris database, first used by Sir R.A. Fisher. The dataset is taken\\nfrom Fisher\\'s paper. Note that it\\'s the same as in R, but not as in the UCI\\nMachine Learning Repository, which has two wrong data points.\\n\\nThis is perhaps the best known database to be found in the\\npattern recognition literature.  Fisher\\'s paper is a classic in the field and\\nis referenced frequently to this day.  (See Duda & Hart, for example.)  The\\ndata set contains 3 classes of 50 instances each, where each class refers to a\\ntype of iris plant.  One class is linearly separable from the other 2; the\\nlatter are NOT linearly separable from each other.\\n\\n.. topic:: References\\n\\n   - Fisher, R.A. \"The use of multiple measurements in taxonomic problems\"\\n     Annual Eugenics, 7, Part II, 179-188 (1936); also in \"Contributions to\\n     Mathematical Statistics\" (John Wiley, NY, 1950).\\n   - Duda, R.O., & Hart, P.E. (1973) Pattern Classification and Scene Analysis.\\n     (Q327.D83) John Wiley & Sons.  ISBN 0-471-22361-1.  See page 218.\\n   - Dasarathy, B.V. (1980) \"Nosing Around the Neighborhood: A New System\\n     Structure and Classification Rule for Recognition in Partially Exposed\\n     Environments\".  IEEE Transactions on Pattern Analysis and Machine\\n     Intelligence, Vol. PAMI-2, No. 1, 67-71.\\n   - Gates, G.W. (1972) \"The Reduced Nearest Neighbor Rule\".  IEEE Transactions\\n     on Information Theory, May 1972, 431-433.\\n   - See also: 1988 MLC Proceedings, 54-64.  Cheeseman et al\"s AUTOCLASS II\\n     conceptual clustering system finds 3 classes in the data.\\n   - Many, many more ...'"
            ],
            "application/vnd.google.colaboratory.intrinsic+json": {
              "type": "string"
            }
          },
          "metadata": {},
          "execution_count": 3
        }
      ]
    },
    {
      "cell_type": "markdown",
      "source": [
        "ARRAYS DE 150 FILAS POR 4 COLUMNAS"
      ],
      "metadata": {
        "id": "F0-XicUGkXJh"
      }
    },
    {
      "cell_type": "code",
      "source": [
        "flowers.data"
      ],
      "metadata": {
        "colab": {
          "base_uri": "https://localhost:8080/"
        },
        "id": "D0ZQRmwXjzgW",
        "outputId": "4ae20954-ecfa-4a31-c235-3f1481bb0035"
      },
      "execution_count": null,
      "outputs": [
        {
          "output_type": "execute_result",
          "data": {
            "text/plain": [
              "array([[5.1, 3.5, 1.4, 0.2],\n",
              "       [4.9, 3. , 1.4, 0.2],\n",
              "       [4.7, 3.2, 1.3, 0.2],\n",
              "       [4.6, 3.1, 1.5, 0.2],\n",
              "       [5. , 3.6, 1.4, 0.2],\n",
              "       [5.4, 3.9, 1.7, 0.4],\n",
              "       [4.6, 3.4, 1.4, 0.3],\n",
              "       [5. , 3.4, 1.5, 0.2],\n",
              "       [4.4, 2.9, 1.4, 0.2],\n",
              "       [4.9, 3.1, 1.5, 0.1],\n",
              "       [5.4, 3.7, 1.5, 0.2],\n",
              "       [4.8, 3.4, 1.6, 0.2],\n",
              "       [4.8, 3. , 1.4, 0.1],\n",
              "       [4.3, 3. , 1.1, 0.1],\n",
              "       [5.8, 4. , 1.2, 0.2],\n",
              "       [5.7, 4.4, 1.5, 0.4],\n",
              "       [5.4, 3.9, 1.3, 0.4],\n",
              "       [5.1, 3.5, 1.4, 0.3],\n",
              "       [5.7, 3.8, 1.7, 0.3],\n",
              "       [5.1, 3.8, 1.5, 0.3],\n",
              "       [5.4, 3.4, 1.7, 0.2],\n",
              "       [5.1, 3.7, 1.5, 0.4],\n",
              "       [4.6, 3.6, 1. , 0.2],\n",
              "       [5.1, 3.3, 1.7, 0.5],\n",
              "       [4.8, 3.4, 1.9, 0.2],\n",
              "       [5. , 3. , 1.6, 0.2],\n",
              "       [5. , 3.4, 1.6, 0.4],\n",
              "       [5.2, 3.5, 1.5, 0.2],\n",
              "       [5.2, 3.4, 1.4, 0.2],\n",
              "       [4.7, 3.2, 1.6, 0.2],\n",
              "       [4.8, 3.1, 1.6, 0.2],\n",
              "       [5.4, 3.4, 1.5, 0.4],\n",
              "       [5.2, 4.1, 1.5, 0.1],\n",
              "       [5.5, 4.2, 1.4, 0.2],\n",
              "       [4.9, 3.1, 1.5, 0.2],\n",
              "       [5. , 3.2, 1.2, 0.2],\n",
              "       [5.5, 3.5, 1.3, 0.2],\n",
              "       [4.9, 3.6, 1.4, 0.1],\n",
              "       [4.4, 3. , 1.3, 0.2],\n",
              "       [5.1, 3.4, 1.5, 0.2],\n",
              "       [5. , 3.5, 1.3, 0.3],\n",
              "       [4.5, 2.3, 1.3, 0.3],\n",
              "       [4.4, 3.2, 1.3, 0.2],\n",
              "       [5. , 3.5, 1.6, 0.6],\n",
              "       [5.1, 3.8, 1.9, 0.4],\n",
              "       [4.8, 3. , 1.4, 0.3],\n",
              "       [5.1, 3.8, 1.6, 0.2],\n",
              "       [4.6, 3.2, 1.4, 0.2],\n",
              "       [5.3, 3.7, 1.5, 0.2],\n",
              "       [5. , 3.3, 1.4, 0.2],\n",
              "       [7. , 3.2, 4.7, 1.4],\n",
              "       [6.4, 3.2, 4.5, 1.5],\n",
              "       [6.9, 3.1, 4.9, 1.5],\n",
              "       [5.5, 2.3, 4. , 1.3],\n",
              "       [6.5, 2.8, 4.6, 1.5],\n",
              "       [5.7, 2.8, 4.5, 1.3],\n",
              "       [6.3, 3.3, 4.7, 1.6],\n",
              "       [4.9, 2.4, 3.3, 1. ],\n",
              "       [6.6, 2.9, 4.6, 1.3],\n",
              "       [5.2, 2.7, 3.9, 1.4],\n",
              "       [5. , 2. , 3.5, 1. ],\n",
              "       [5.9, 3. , 4.2, 1.5],\n",
              "       [6. , 2.2, 4. , 1. ],\n",
              "       [6.1, 2.9, 4.7, 1.4],\n",
              "       [5.6, 2.9, 3.6, 1.3],\n",
              "       [6.7, 3.1, 4.4, 1.4],\n",
              "       [5.6, 3. , 4.5, 1.5],\n",
              "       [5.8, 2.7, 4.1, 1. ],\n",
              "       [6.2, 2.2, 4.5, 1.5],\n",
              "       [5.6, 2.5, 3.9, 1.1],\n",
              "       [5.9, 3.2, 4.8, 1.8],\n",
              "       [6.1, 2.8, 4. , 1.3],\n",
              "       [6.3, 2.5, 4.9, 1.5],\n",
              "       [6.1, 2.8, 4.7, 1.2],\n",
              "       [6.4, 2.9, 4.3, 1.3],\n",
              "       [6.6, 3. , 4.4, 1.4],\n",
              "       [6.8, 2.8, 4.8, 1.4],\n",
              "       [6.7, 3. , 5. , 1.7],\n",
              "       [6. , 2.9, 4.5, 1.5],\n",
              "       [5.7, 2.6, 3.5, 1. ],\n",
              "       [5.5, 2.4, 3.8, 1.1],\n",
              "       [5.5, 2.4, 3.7, 1. ],\n",
              "       [5.8, 2.7, 3.9, 1.2],\n",
              "       [6. , 2.7, 5.1, 1.6],\n",
              "       [5.4, 3. , 4.5, 1.5],\n",
              "       [6. , 3.4, 4.5, 1.6],\n",
              "       [6.7, 3.1, 4.7, 1.5],\n",
              "       [6.3, 2.3, 4.4, 1.3],\n",
              "       [5.6, 3. , 4.1, 1.3],\n",
              "       [5.5, 2.5, 4. , 1.3],\n",
              "       [5.5, 2.6, 4.4, 1.2],\n",
              "       [6.1, 3. , 4.6, 1.4],\n",
              "       [5.8, 2.6, 4. , 1.2],\n",
              "       [5. , 2.3, 3.3, 1. ],\n",
              "       [5.6, 2.7, 4.2, 1.3],\n",
              "       [5.7, 3. , 4.2, 1.2],\n",
              "       [5.7, 2.9, 4.2, 1.3],\n",
              "       [6.2, 2.9, 4.3, 1.3],\n",
              "       [5.1, 2.5, 3. , 1.1],\n",
              "       [5.7, 2.8, 4.1, 1.3],\n",
              "       [6.3, 3.3, 6. , 2.5],\n",
              "       [5.8, 2.7, 5.1, 1.9],\n",
              "       [7.1, 3. , 5.9, 2.1],\n",
              "       [6.3, 2.9, 5.6, 1.8],\n",
              "       [6.5, 3. , 5.8, 2.2],\n",
              "       [7.6, 3. , 6.6, 2.1],\n",
              "       [4.9, 2.5, 4.5, 1.7],\n",
              "       [7.3, 2.9, 6.3, 1.8],\n",
              "       [6.7, 2.5, 5.8, 1.8],\n",
              "       [7.2, 3.6, 6.1, 2.5],\n",
              "       [6.5, 3.2, 5.1, 2. ],\n",
              "       [6.4, 2.7, 5.3, 1.9],\n",
              "       [6.8, 3. , 5.5, 2.1],\n",
              "       [5.7, 2.5, 5. , 2. ],\n",
              "       [5.8, 2.8, 5.1, 2.4],\n",
              "       [6.4, 3.2, 5.3, 2.3],\n",
              "       [6.5, 3. , 5.5, 1.8],\n",
              "       [7.7, 3.8, 6.7, 2.2],\n",
              "       [7.7, 2.6, 6.9, 2.3],\n",
              "       [6. , 2.2, 5. , 1.5],\n",
              "       [6.9, 3.2, 5.7, 2.3],\n",
              "       [5.6, 2.8, 4.9, 2. ],\n",
              "       [7.7, 2.8, 6.7, 2. ],\n",
              "       [6.3, 2.7, 4.9, 1.8],\n",
              "       [6.7, 3.3, 5.7, 2.1],\n",
              "       [7.2, 3.2, 6. , 1.8],\n",
              "       [6.2, 2.8, 4.8, 1.8],\n",
              "       [6.1, 3. , 4.9, 1.8],\n",
              "       [6.4, 2.8, 5.6, 2.1],\n",
              "       [7.2, 3. , 5.8, 1.6],\n",
              "       [7.4, 2.8, 6.1, 1.9],\n",
              "       [7.9, 3.8, 6.4, 2. ],\n",
              "       [6.4, 2.8, 5.6, 2.2],\n",
              "       [6.3, 2.8, 5.1, 1.5],\n",
              "       [6.1, 2.6, 5.6, 1.4],\n",
              "       [7.7, 3. , 6.1, 2.3],\n",
              "       [6.3, 3.4, 5.6, 2.4],\n",
              "       [6.4, 3.1, 5.5, 1.8],\n",
              "       [6. , 3. , 4.8, 1.8],\n",
              "       [6.9, 3.1, 5.4, 2.1],\n",
              "       [6.7, 3.1, 5.6, 2.4],\n",
              "       [6.9, 3.1, 5.1, 2.3],\n",
              "       [5.8, 2.7, 5.1, 1.9],\n",
              "       [6.8, 3.2, 5.9, 2.3],\n",
              "       [6.7, 3.3, 5.7, 2.5],\n",
              "       [6.7, 3. , 5.2, 2.3],\n",
              "       [6.3, 2.5, 5. , 1.9],\n",
              "       [6.5, 3. , 5.2, 2. ],\n",
              "       [6.2, 3.4, 5.4, 2.3],\n",
              "       [5.9, 3. , 5.1, 1.8]])"
            ]
          },
          "metadata": {},
          "execution_count": 4
        }
      ]
    },
    {
      "cell_type": "markdown",
      "source": [
        "NOS DEVUELVE LA CANTIDAD DE FILAS Y COLUMNAS"
      ],
      "metadata": {
        "id": "LS-Y1kbdkAZf"
      }
    },
    {
      "cell_type": "code",
      "source": [
        "flowers.data.shape"
      ],
      "metadata": {
        "colab": {
          "base_uri": "https://localhost:8080/"
        },
        "id": "zE-1RBGJjrrX",
        "outputId": "5d0a60e5-8dc5-47eb-f8b5-69654ddacd01"
      },
      "execution_count": null,
      "outputs": [
        {
          "output_type": "execute_result",
          "data": {
            "text/plain": [
              "(150, 4)"
            ]
          },
          "metadata": {},
          "execution_count": 5
        }
      ]
    },
    {
      "cell_type": "markdown",
      "source": [
        "ARRAYS DE 150 VALORES"
      ],
      "metadata": {
        "id": "VbLUcLdhktkR"
      }
    },
    {
      "cell_type": "code",
      "source": [
        "flowers.target"
      ],
      "metadata": {
        "colab": {
          "base_uri": "https://localhost:8080/"
        },
        "id": "9lGPuHJLkoM_",
        "outputId": "f6a70290-6c0a-4bd9-c885-93d040e0f930"
      },
      "execution_count": null,
      "outputs": [
        {
          "output_type": "execute_result",
          "data": {
            "text/plain": [
              "array([0, 0, 0, 0, 0, 0, 0, 0, 0, 0, 0, 0, 0, 0, 0, 0, 0, 0, 0, 0, 0, 0,\n",
              "       0, 0, 0, 0, 0, 0, 0, 0, 0, 0, 0, 0, 0, 0, 0, 0, 0, 0, 0, 0, 0, 0,\n",
              "       0, 0, 0, 0, 0, 0, 1, 1, 1, 1, 1, 1, 1, 1, 1, 1, 1, 1, 1, 1, 1, 1,\n",
              "       1, 1, 1, 1, 1, 1, 1, 1, 1, 1, 1, 1, 1, 1, 1, 1, 1, 1, 1, 1, 1, 1,\n",
              "       1, 1, 1, 1, 1, 1, 1, 1, 1, 1, 1, 1, 2, 2, 2, 2, 2, 2, 2, 2, 2, 2,\n",
              "       2, 2, 2, 2, 2, 2, 2, 2, 2, 2, 2, 2, 2, 2, 2, 2, 2, 2, 2, 2, 2, 2,\n",
              "       2, 2, 2, 2, 2, 2, 2, 2, 2, 2, 2, 2, 2, 2, 2, 2, 2, 2])"
            ]
          },
          "metadata": {},
          "execution_count": 6
        }
      ]
    },
    {
      "cell_type": "code",
      "source": [
        "class NeuralNet():\n",
        "  def __init__(self, input_size, hidden_size, output_size):\n",
        "    self.input_size = input_size\n",
        "    self.hidden_size = hidden_size\n",
        "    self.output_size = output_size\n",
        "\n",
        "    self.W1 = np.random.randn(self.input_size, self.hidden_size)\n",
        "    self.W2 = np.random.randn(self.hidden_size, self.output_size)\n",
        "\n",
        "    self.b1 = np.zeros((1, self.hidden_size))\n",
        "    self.b2 = np.zeros((1, self.output_size))\n",
        "\n",
        "  def relu(self, x):\n",
        "    return np.maximum(0, x)\n",
        "\n",
        "  def relu_derivative(self, x):\n",
        "    return (x > 0) * 1\n",
        "\n",
        "  def softmax(self, x):\n",
        "    exp = np.exp(x) / np.sum(np.exp(x), axis=1, keepdims=True)\n",
        "    return exp\n",
        "\n",
        "  def cross_entropy(self, output, y):\n",
        "    target = self.one_hot(y)\n",
        "    loss = - np.mean(target * np.log(output + 1e-8))\n",
        "    return loss\n",
        "\n",
        "  def accuracy(self, output, target):\n",
        "    preds = np.argmax(output, axis=1)\n",
        "    return np.sum(preds == target) / target.size\n",
        "   \n",
        "  def one_hot(self, y):\n",
        "    one_hot_array = np.zeros((y.size, y.max() + 1))\n",
        "    one_hot_array[np.arange(y.size), y] = 1\n",
        "    return one_hot_array\n",
        "\n",
        "  def forward(self, X):\n",
        "    self.z1 = np.dot(X, self.W1) + self.b1\n",
        "    self.a1 = self.relu(self.z1)\n",
        "    self.z2 = np.dot(self.a1, self.W2) + self.b2\n",
        "    self.output = self.softmax(self.z2)\n",
        "    return self.output\n",
        "\n",
        "  def backprop(self, X, y):\n",
        "    output = self.forward(X)\n",
        "    target = self.one_hot(y)\n",
        "    delta_out = output - target\n",
        "    dW2 = np.dot(self.a1.T, delta_out)\n",
        "    db2 = np.sum(delta_out, axis=0, keepdims=True)\n",
        "    error_hidden = np.dot(delta_out, self.W2.T)\n",
        "    delta_hidden = error_hidden * self.relu_derivative(self.z1)\n",
        "    dW1 = np.dot(X.T, delta_hidden)\n",
        "    db1 = np.sum(delta_hidden, axis=0, keepdims=True)\n",
        "    return dW2, db2, dW1, db1\n",
        "\n",
        "  def gradient_desc(self, dW2, db2, dW1, db1, lr):\n",
        "    self.W2 -= dW2 * lr\n",
        "    self.b2 -= db2 * lr\n",
        "    self.W1 -= dW1 * lr\n",
        "    self.b1 -= db1 * lr\n",
        "  \n",
        "  def train(self, epochs, X, y, lr):\n",
        "    oks = []\n",
        "    fails = []\n",
        "    for i in range(epochs):\n",
        "      output = self.forward(X)\n",
        "      dW2, db2, dW1, db1 = self.backprop(X, y)\n",
        "      ok = self.accuracy(output, y)\n",
        "      oks.append(ok)\n",
        "      fail = self.cross_entropy(output, y)\n",
        "      fails.append(fail)\n",
        "      self.gradient_desc(dW2, db2, dW1, db1, lr)\n",
        "    X_axis = range(epochs)\n",
        "    plt.plot(X_axis, oks, c='green')\n",
        "    plt.plot(X_axis, fails, c='red')\n",
        "    plt.legend(['Accuracy', 'Loss'])"
      ],
      "metadata": {
        "id": "bxH9UXhBkz1k"
      },
      "execution_count": null,
      "outputs": []
    },
    {
      "cell_type": "markdown",
      "source": [
        "DATOS"
      ],
      "metadata": {
        "id": "_KhQgShmoKiO"
      }
    },
    {
      "cell_type": "code",
      "source": [
        "x = flowers.data\n",
        "y = flowers.target\n",
        "#x normalizado\n",
        "x = x/np.max(x,axis=0,keepdims=True)"
      ],
      "metadata": {
        "id": "EasqqmcLnxMD"
      },
      "execution_count": null,
      "outputs": []
    },
    {
      "cell_type": "code",
      "source": [
        "x.shape"
      ],
      "metadata": {
        "colab": {
          "base_uri": "https://localhost:8080/"
        },
        "id": "VwwlRV-hn4Jk",
        "outputId": "02065e22-e73e-4a37-e5c7-9e9c81c0ea01"
      },
      "execution_count": null,
      "outputs": [
        {
          "output_type": "execute_result",
          "data": {
            "text/plain": [
              "(150, 4)"
            ]
          },
          "metadata": {},
          "execution_count": 9
        }
      ]
    },
    {
      "cell_type": "markdown",
      "source": [
        "MAXIMO VALOR"
      ],
      "metadata": {
        "id": "mS-9OhHjobND"
      }
    },
    {
      "cell_type": "code",
      "source": [
        "y.max()+1"
      ],
      "metadata": {
        "colab": {
          "base_uri": "https://localhost:8080/"
        },
        "id": "4XwAxRG9n6CZ",
        "outputId": "58894ee2-fadf-4393-915a-7a6e2be8967f"
      },
      "execution_count": null,
      "outputs": [
        {
          "output_type": "execute_result",
          "data": {
            "text/plain": [
              "3"
            ]
          },
          "metadata": {},
          "execution_count": 10
        }
      ]
    },
    {
      "cell_type": "code",
      "source": [
        "nn = NeuralNet(x.shape[1], 8,y.max()+1)\n",
        "output = nn.forward(x)\n",
        "nn.one_hot(y)\n",
        "nn.cross_entropy(output,nn.one_hot(y))"
      ],
      "metadata": {
        "colab": {
          "base_uri": "https://localhost:8080/"
        },
        "id": "yYr2i6mKn-2R",
        "outputId": "a3209ab4-cc4b-4b4d-8bf2-7af56783bc21"
      },
      "execution_count": null,
      "outputs": [
        {
          "output_type": "execute_result",
          "data": {
            "text/plain": [
              "0.33449316628058695"
            ]
          },
          "metadata": {},
          "execution_count": 31
        }
      ]
    },
    {
      "cell_type": "code",
      "source": [
        "y"
      ],
      "metadata": {
        "colab": {
          "base_uri": "https://localhost:8080/"
        },
        "id": "VOljbP3rwLGD",
        "outputId": "304a27a7-cb34-434f-a6de-c2d8703e9908"
      },
      "execution_count": null,
      "outputs": [
        {
          "output_type": "execute_result",
          "data": {
            "text/plain": [
              "array([0, 0, 0, 0, 0, 0, 0, 0, 0, 0, 0, 0, 0, 0, 0, 0, 0, 0, 0, 0, 0, 0,\n",
              "       0, 0, 0, 0, 0, 0, 0, 0, 0, 0, 0, 0, 0, 0, 0, 0, 0, 0, 0, 0, 0, 0,\n",
              "       0, 0, 0, 0, 0, 0, 1, 1, 1, 1, 1, 1, 1, 1, 1, 1, 1, 1, 1, 1, 1, 1,\n",
              "       1, 1, 1, 1, 1, 1, 1, 1, 1, 1, 1, 1, 1, 1, 1, 1, 1, 1, 1, 1, 1, 1,\n",
              "       1, 1, 1, 1, 1, 1, 1, 1, 1, 1, 1, 1, 2, 2, 2, 2, 2, 2, 2, 2, 2, 2,\n",
              "       2, 2, 2, 2, 2, 2, 2, 2, 2, 2, 2, 2, 2, 2, 2, 2, 2, 2, 2, 2, 2, 2,\n",
              "       2, 2, 2, 2, 2, 2, 2, 2, 2, 2, 2, 2, 2, 2, 2, 2, 2, 2])"
            ]
          },
          "metadata": {},
          "execution_count": 12
        }
      ]
    },
    {
      "cell_type": "code",
      "source": [
        "np.arange(y.size)"
      ],
      "metadata": {
        "colab": {
          "base_uri": "https://localhost:8080/"
        },
        "id": "JcGTbkMIv-OS",
        "outputId": "7fb814db-5a9b-4ec3-f2c7-66928049f7fc"
      },
      "execution_count": null,
      "outputs": [
        {
          "output_type": "execute_result",
          "data": {
            "text/plain": [
              "array([  0,   1,   2,   3,   4,   5,   6,   7,   8,   9,  10,  11,  12,\n",
              "        13,  14,  15,  16,  17,  18,  19,  20,  21,  22,  23,  24,  25,\n",
              "        26,  27,  28,  29,  30,  31,  32,  33,  34,  35,  36,  37,  38,\n",
              "        39,  40,  41,  42,  43,  44,  45,  46,  47,  48,  49,  50,  51,\n",
              "        52,  53,  54,  55,  56,  57,  58,  59,  60,  61,  62,  63,  64,\n",
              "        65,  66,  67,  68,  69,  70,  71,  72,  73,  74,  75,  76,  77,\n",
              "        78,  79,  80,  81,  82,  83,  84,  85,  86,  87,  88,  89,  90,\n",
              "        91,  92,  93,  94,  95,  96,  97,  98,  99, 100, 101, 102, 103,\n",
              "       104, 105, 106, 107, 108, 109, 110, 111, 112, 113, 114, 115, 116,\n",
              "       117, 118, 119, 120, 121, 122, 123, 124, 125, 126, 127, 128, 129,\n",
              "       130, 131, 132, 133, 134, 135, 136, 137, 138, 139, 140, 141, 142,\n",
              "       143, 144, 145, 146, 147, 148, 149])"
            ]
          },
          "metadata": {},
          "execution_count": 13
        }
      ]
    },
    {
      "cell_type": "markdown",
      "source": [
        "![entropia cruzada.jpg](data:image/jpeg;base64,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)"
      ],
      "metadata": {
        "id": "PNFka1teWvY1"
      }
    },
    {
      "cell_type": "markdown",
      "source": [
        "![image.png](data:image/png;base64,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)"
      ],
      "metadata": {
        "id": "hW02l_K7XGQn"
      }
    },
    {
      "cell_type": "markdown",
      "source": [
        "![image.png](data:image/png;base64,iVBORw0KGgoAAAANSUhEUgAAATcAAABPCAYAAACOJIIqAAAAAXNSR0IArs4c6QAAAARnQU1BAACxjwv8YQUAAAAJcEhZcwAADsMAAA7DAcdvqGQAACGiSURBVHhe7d0J3HXV9AfwU5lJ5rmBMqQiqYSSJCrzkEzRYCgK9cnHTDInQ1IiGRIhZB6iZHhLpEQSRciY8Jpes/Pf39W77v+47nPfe+9zn3q6z/59Pvtzpr3XXnvttddea+9zz12tLWgqKioqZgyrrzxWVFRUzBSqcauoqJhJVONWUVExk6jGraKiYiZRjVtFRcVMohq3ioqKmUQ1bhUVFTOJatwqKipmEtW4VVRUzCSqcauoqJhJVONWUVExk6jGraKiYiZRjVtFRcVMohq3ioqKmUQ1bhUVFTOJatwqKipmEtW4VVRUzCSqcauoqJhJVONWUVExk6jGraKiYiZRjVtFRcVMYqr/foXUP//5zzjCGmus0VzlKleJ8/ngP//5T/Ovf/2rWW211ZrVV1896F7e+Pe//x08JPAg4Qm02XO84lG781nFZch+hJTffIGmvpmv3PUfOlJXzxZzH6bOOeITv/juR7dtkHmnIf8uuvxkyj7p5yt5yn5bCFkv+r/2SyFMw0hOCjzohEHK0BVfdo687k9bea7MSDktZmNxZULqJHmm4XCvK1/XaUD6jZn7DJFxNQ09zYm935Dh4R//+EfwddWrXnVg/8uTvA96Pimmatx4bb/5zW+av/zlL8Hkta997eZmN7tZnCfz40AZAkP317/+ddy77nWv21zveteL82kKYhjw8ac//am55JJLVt5pmqtd7WrNzW9+8+gwz3Xgb3/72+avf/1rc81rXrO56U1v2uvky4vPxQp9KP3tb39rfv/738f59a9//ejLSfRCeYNTObrxu9/9rlmxYkVzrWtdq7nhDW8YfeO5QdvvMQxCt//oLvprrrlmc5Ob3OQKnVSHAc9Anvi+xjWuEW0nA0gZpVf0hz/8IeREXtp0oxvdKOTf9aQn0VP1oKG8hJ/ly5dH3dJaa60VfOFD3uwT8pbvj3/8Y3Od61wn8ngGo/TZSChCmjdKI9rCbHv++ee3O+20U1sE3d7iFrdo995777YIsy2NaosAVuYeDWgq+9Of/rTdf//92yKk9na3u1177LHHxrO///3vK3MuHJJvPDzzmc9si+K0ReHbYrjaZz/72dFmPDr+5Cc/CT5LR7Ubb7xx+653vSvKeraUof3FqLWXXnppe8ghh7Q3vvGN29vc5jbt2972tl4fjwv9gi4dWLZsWbvzzju3V7/61dt73ete7Re/+MVenaMg++/b3/52u8suu0Qfl4HWPv3pT2/LhLoy1+ICfvF92mmntQ960INC5x7ykIe0Z5xxxsocl8lI+sY3vtE+61nPajfffPN23XXXbYuz0ZZJud10001Dh88999zQU/TkHwdZB6Dzkpe8pN1yyy2DvlQMaHvrW9+6ffKTn9yefvrpwbc+l4oT1B544IGRZ6ONNmrf+973tmWCCj7GtRVzYarGTQO33nprU0pbvJf2sY99bNwngHEYTqEVq96+5S1vCcVF79GPfnRbZp+JB8U46Hbcl770pTCs2oWXRz7yke0vfvGLXru1Td5TTjklOko+cjj77LPj/rQ668qGNByU9qijjgpFJhuK/7rXvW7ifkTzz3/+cxi3L3/5y+12220XdO9xj3u0n//85+N58bTb4kX3+nAuJI/f/OY3w0CgI+25556L0rjhV/rxj38cPBYvJwzWm970ppAHmUrFA22PPvront7OlRi5E044IWSVejwq1GMSMZHf4Q53GEg/EyN3zDHHhC6QtzZ8/OMfD6Pr+TbbbBMTEx6mNV6m4v+lO8udFKYBFzPPodS18mw4Ml8RcvOtb32rKZ3WlE5rNthgg6bMABGSetYNF5TJNC2gVYQcLv/Xvva15mc/+1m0rwyg5kUvelEv3M51hNLRzZ3udKfmcY97XOQrnkBTDHO46fl8qUD/CEHJTzrxxBObN77xjU0xSLFUQT4ZgowTCqErlUHQlImueepTn9oUzyRCMkDzBz/4QfO85z2vecxjHtN84hOfCPqj6IV8Er0qE9j/rB3NhfnoXOps0lgVLc/xVIxDUwxDUwx53Csea7P99tsH/8ZKyqh4x81FF10UYbq01VZbNWViboqhiTYKvc8777zmHe94R3POOecErXH0FC+f+cxnom9L5BJ9qw/ufOc7N7vttltzl7vcpVfPr371q6ZMaM1JJ53U6/P73e9+TZlQIkQuXmjz/ve/vylRUvA/lfFSGjRvFGbCGn/3u99t733ve+uhcO8f//jHxwxrVnBk5SXXZhnl+mE2QOviiy9un/GMZwStIrR29913j3KZxwxgdpLkHwT51CeP/HPVCd28XbrFsMXsUoxYtE0o4D6vEj+SWQhd6atf/WpbOjX4Nptxt81E6h4H+FFmkjStmW9SpIyXL1/eHnbYYRGKloHQlgEWcrzlLW/ZlgERbRyVV/nI+ZJLLolwinylMpgilQHTFoMUyX317bHHHm0ZVEPrQVN/puemPB732muvgZ4bOvo8dSp1WerqwlzIfpU3x0OmLh203ZM/gbZEJ3fcccdo89prrx0emnz5XFTxpCc9KeRCDjzlF7/4xW2ZoINOcRraRz3qUTFG5REVlQm7LRNxtK9b5yBkPUJ5MhPNkJklm+c+97nhVYKlGmNYmK8OeZ72tKfFMo92kjtvzXKCPrvVrW7VHnfcccHDKHysClNauftfFNqRSoNiZmXVWXHJtfuF+cjTBatuRigCilkB1ltvvZiJzT5FIPHcor3FUwmtfjqAlvrkkV959wblRTPzduluuOGGMQMuW7asec973tPc7W53i7xmI+2QzPJolg5pShjQPPShD416zJqf/OQnY9FU3eNAHcpMksyeVxTIoQzKpoTy4Vm94AUvCO8VT93+HtQHw5B6Qd5bbrll88AHPrC57W1vG4vixZgEPUf9ts466zTbbrttc8973rPn4Ss/DJ6nbmTqB/4BD6lTzlPuztEYpNeAP8/IQt4cD5noW44XtN3TZrSy7mIUmlNOOaX5+te/Hvfvfve7RzSR7XP83ve+13z/+9+PtuPr/ve/f/PEJz4xPCR9s8kmmzRlgmjKZB35jSmRxo9+9KM5294F/qWvfOUrzZlnntlr76677toUYxZRTTHQTZnEmqc85SnN1ltvHRsZ2m8cqStp4P++971vbCiIjj73uc81F154Ya9P54MF2wrKTiHkT3/609EoDGsQt/URj3hEHFOYqVjAhf3whz/cXHDBBdHRDEwaFTj33HObM844o6co3F8p6YBzO0Ty6TRKw0gSNKXpr9NuaJm9m/PPPz/qsctjcJSZMWgn5C8zY7RHyEoJhaPyKFe8lAgTGDltP/vss5vPfvazEUZB8jcM6hDCkUPKLPkdBnnwcIMb3CB2I0cpMy2oK+sr3mtTZvBYVsAP/u2IGUTaNQmy79ERWknf+c53mpe//OWhKznB6d/ipTR3vetde4ZtFDkk/3PBxAWpJyeffHKEwGl01l133Rik9JQRSd3MetMAaIdQ8IQTTuiFgnjfYostmh122CF2a+m9+uie+wa+8spqs4nDzqf7DBtdoyeeMyLkTo8ZQnxtt912ccRLypF81MdIXnrppcFLibxiTA6TVcqyRFYxtrxBoG6TiT6xbKRebWfgjDnhpzGonP4pnmTwoU36yNgRKhtPwml8uR7Gx0gozM4bpXHhYmZYWpgKN5TLbGdMNf3JbuqrX/3qcMGV5+ZyRZ3bAcuFUPle+9rXhouqDu6shUgusOd2irjgnsmTNID7XmapyFcUKFzoIsCeCw95LgSx25P83f72t2/f9773xfNu2CDUElKVzuvx95rXvCZoqRutMnO2xdMMOQipbazYHerWOwz4LxNChLV2ZoUVFo2HJXyQifa++93vDhoph8sD2iaB/tlggw0iJKIDxXtrjzjiiLhHZsLSN7zhDZGfzMaB/Pr6l7/8ZYRSdtHLAOmFPcWjbvfbb794Ttarkrfn6GVYql/R624oZL8WwxJLLWVy7OlJNylnc+MLX/hClCP/bKNEBw499NC2DPiB5bMv89qbB3ZAu/pnLNiYIdutttqqLRNn8OaZOuxKH3DAASEPefBjQ0wbUxaO8n7kIx9pizELvstk2L7iFa+IjZhuX86FYhQjNFaH5M0I4eYgqJssczMw9TJ5KoYvwmR8kL/x/MMf/rDH56SYSlha6Kw8uwysdmlwWHcWuzAds5n3hlhjz3k/FjJ5NcqXhsas492X008/PVxT5XhCFkKhCCXolkHf3Oc+9wk6RVgxU/HmoAgj7gkFzzrrrJgFzYxmOeEMjwaUBfxIvB31mOGA18Q7M5Ny7fGibrMctxrP6JpdeWquJbS842Y2Uka7zPBmxcyzKsiDf6F5UYqmDNTgZ1giT7Mob5UM8XF5IuUIvKsyOURIIszgXRXjO1Lbh0H/q4Nn8M53vrM55JBDor13vOMdmz322CP6l2dVjHvz5je/uecZzAdo4Fufv/CFL2yOO+640DH6IzTlhfBW6Ab+eB42nLTbNZ1Wnsdqg+nggw+OvqJT9Id+53ub+lpf4tkzdUjKS8YTD4tuuM+7kUBd8pANjwnfIGy3hNIPed3XV2QqXLV8oKxnq8KKFSuijHotOa2//vpR98c+9rHwnPfZZ59mr732is0d4StZiYaST9DObIexlx6vcWvMpD6Nws8gLMiaWzKjg3Q+pbCrZf3JWgkI57zwK4QByqExlMBaFSG4Vr54f/EcPffS4GXHUxZhAnjuHheXkCiXfAbXNttsE3mSNjhm3eoRisqvk7ndlFr+VGh12T1NGoyhsADQkXSiztaheGEQGTcYtaPKDB5hDsNpbWRVibF33HzzzWPNadR6pgWySJmSobDryCOPjHUxSj8NZD/RnQc84AFNme1jwnzwgx/cFO+5KV5VXAuR7MIxIJPKIdujzxmTD3zgA82nPvWp3lqZtaK3vvWtvV0+oRT9xBu9O/bYY2NyQoOuCGXtbpKFdjAs+++/f5RHd5dddomyaYyVSTiXGDeJTjNKjHqGeCl7xl3Iyki41zVgiZQJPWX8PKPfymZfrUpudkd//vOfxzmHQbjMmAlNX/aylzVHHXVUOC8lOmt23nnnmOg4IHhNqFc92sbA4xNM0gx9ymBiXS4F540iyHAxMywtHRThmJCKq9vFmWee2ZZOiZCNe1/i8d47Y1xvOzneV8JaEXy77777hhvLRQXnkpATHfmKErcPf/jDY7fHM64sd754T716hByeD0KWyZCzdECEOMVwtYcffnjULXwuSh7vE3lWlDx2d17/+tdH2aIUQUc7XHtpsQyA4K90WrwUSkajImlNkpQdFfJr31xJW8ah14+kf+KJJ/aWKOYTlkLyU7y22FUXSoEdzDLgIvwZFXjTL/1hafEEY6cVyqTcbrbZZqFH+l2o5/26Lrzj6T1M5aXijcR7XXj1psArX/nKCKHpo7CyeLPBf0IYJhxTh/rpmBd08ZVhqffJ0CXDDTfcsC0GN8qqQxu0xZKIEA8P9FgYXbygXn9C5hVaCn2NH/UJLe2o6pNB/dLVA+PE+FZW0i58SUJi4x8P7uezMgnF+O/SR1Miz7QdylnK0I/4nERHYEE8t8JszARl8McM6tzsx5UVHvK6SoMjLw+Je+varCXMMDtBaWRv8b8L9M3Q6JgJXJtJ0pVFk8dlUdVsalawgGqmKgNqJZX/hzLomMU23XTTCKmKUGMG4XGih5f0wNQnCT/lT2Sb8GuGz3BD+3h8ZlTob88gyENu+BglyZsJb6tC8pBtH5SyPeMCbTyM0s5JoZ08YzomLFIfz4eHrh89nw/wLpEtL0LfF6MQfcpTtJCvDn1Lr72HWSbY8FTJTn7LJaITfW8TgR7xJm062MF0btnDfTuLPHUhGl2TEs5Thyw5QPbRXOj276T9OAzGlfGa4wkveD/wwAPjLQdLOrw3Hq4xrK0iN8sJllnwl2Xxx/vjZSa/bIDxNx8smHHTWGtjOlvnUDxHAqGUCY2UX4O4xIyUkJIwGEJGSZ6usrrmjgsFKDIQ2KmnnhrnlJFwKSNQHGGbegYZN8g6hKYUD//KU0ouN769YGj9AB1todAbb7xx8N6vaFxsoaVnaDPu3P6FQNYhOR8FWUabyV1b+5OBTV7yjYOUx6i8jAt09YeU1936Us+mAX1m3ZiRQl+fe5VCHZKBqy7P6ELumpOfydYSS/HKYu2XHE16wkl6xkDkwEdLebSzLxNo6yOTI0MIlmasUcmX7Qbn3et+Wv0Y9mwYjIGs27ldUWurwlDLAnZdiyfalMgt1kLlIRfjh9FPHvNokkqZ0EljjXGblD9YEOMGmNZhOehTEI5zGRjPM38KQ2PdTyFkHvd5WBtttFEIQ8d754ZhNGta40CD4hEaI9ulMwiemUEoGeOkvNnSuqC1QIaO8QWKxXOkZPjR1kS2Ne85x283zzCot7jpTQlLeutpw5KtfrO+o1dsvJmPh7kUI5/xOKyNWRNh0E0WElq27x0tDPOCs9xSgbbqBx4Tb4mh1888N5tPCX1Lx/QtD5L3oZyUYJDImt4zbnTGBK8smo6SyIL+KTtojGTeRJ7jNc+z7rxWRhoEebr0xkHqkLq0nddKXxh1MstJk4fL083XWYwnXplzdaec0OiOj65cJsWCGTfoHwz91/1IYWWDHQkp7yc02D07lTvttFMIxXM7rAwcT0v4SOkoizCAQskz14yewqR8jBajAmYPGwiMmp0qiooGr4xXCXgZ1AnZXh2pHYlROsyuGU9U3RadV5UYYLvMeDTrDUPKkyLyLNTDmKIh8XrNsI7kyGvJtiw1dI1Df7/ldcqGHsrrWvK8m/I+2Uupc1m+m3cQus+SViLP08BmPp5n/7uF+cx9YbGyvEfGlf7DIB669+TjdWqHDSzv4zH66Y2mwZd4dRnFmCSMIePBddIc1J7u9SRYMOOGMQ2fD4M6f5AxIhBCY7gIleAIzSD02zWeRuZh1OwgJlKYg5DCNst0w01vTqNrF0ybQId5eRcG0cyygzCKTCiaEEj4LaxeVWLo5aVg+B+G5JciUkwvVgolJLuzjoy73WWeMXqD2rgUYGJKL0q/8UoyNOz2o3OeigTklZNaDnL64JpBceyOj6TNw4NBuiN/6h/63T7Ja8aN7qgPTXVJg8C4qU8+xsp4SuO2Klhfo3egvITnfp4gDR2kLLr5IPlPoDdfLJhxw6jGDmKyv2EJg83gNPPofErEc5I/hZNIgXoVg6flXGhq0dKPilOxDHoDNGnIxxBmkieBX3lsVhjcyspjveSYY46JXxyAjQQLpUJXz/uBDiW3zgZoCkOGzYpdKM/AeAeQ58YjcxyWeG/eNvdagTBAHXPV4746DAQ/cOal8d4kb787el+LN6fdm222Wa/cUkHKyJouHUud9HpHrp9lcp++eSZ6UI73Yh3JhGMi9GoQPWBQbHR5jYLu5NomGtb2rM/Jh0a3DvfojzECykmAV88d8ak+hko59ViP7hpG98F940vdytMH9QJa2tTlsWuM1SM/CDM5FN6T8zwnA3SVsUmY3iO6UiLPPZcvy6YdmA8WzLglkvlugxLuEaaUgmM4eGLAOFAEGFQe5Od5mB0YQ4pH2K55bd654nnoHDQkCpKp3zNMPsxKwk75UyHNgK7RtfA7DGZE639oqUNnmVFHBWPIuPKsHA2UUZLdwlGUImUBeJwrdRV6KSHlYwCTK2OhH0UHQnW6SaccyUdeOmICNEAZImu99FOfMG5CP/K0oG5N2HXKFi3vVVrXlUdKHuShD2ilQTGRS56DozKMVHpV6Ft2MEnJiw69lFc04r41MGVsctBpbcz2uG+MoOOYhg8YfPXYKMS7pSDGXdsZQ16o8uo18VrWQTeNPePvOtuaL6u7py702QHXk2LBjdswdBl3TjC8IY0H3o8GmxE0uJs/hW9m5VkQNOFnPokHZr0taYNjzhIUM0OMflAkIS+aymTHUlohq1AXD90Oh7xnrSNfcswBQhG6bVgswPNcSVsclxq67bcZ5ffNdIs38qEPfSg2YhgCE5bBb9nCaw70Sj76aOfUM3noYeqoNVG/rvjgBz8YeRkCLzwfccQRPWNpwKce0z+80GeTpHP12DhL70hK2GizpKEu948//vh4qdh4YiSV9QKyjSdAj2FTznkiow/56XM6CPjJ5R7jRBv8mN8vMLQtoxRjy+sgfvuLF7Lw6lT+Flbb0JMYWe1BW1n0jRflJsVUjFsKxJHByfO8PwieUY5kPjvSbhTjkR1j5jEjeNbtwKTtHmNopwaUk9A2c5qRki+CM8N4G1xH6hxvtqPhWbc8PuxE8t5c6xhHykURPE+6CTwCD88MjHcdbwai6OqhjEsV2WeOZLlYgJ/+hD9H0He+9KLP9Z8J9/nPf358qYaR2nvvvSPlG/h0z26zNcukwbhZaqAD8gg/DzjggNBFH1Wgh/kKVJZJ5NhgsCT05eUBMgpoek4XHXmJO+64Y3hJaDFM+PQLgoMOOqjZc889w+gwVvSTwZGfQYEcK35hICoyhvwaxGaT9nuGrjKWb9Tpvp+m+ZWIXyQdeuih8SoIg83IySMCUca4VD7b6UgenAG0GUwGUASiXOYbF1PVsC7DmBoGzzVExyijwwmaAvHEzHaEz1BwoeUfRFNHmNF0AleXS4yeVzWEpDosFQq45VzkdIMHvSiYdQlndSygIQkxco2vH+5pE1dceIIX/HGxV/W1hX4Mon9lR7bJkSxhHJlcnsBj8olHr9jst99+vXVWfcx7e85zntMcffTRYWR4OvTM54V87kleSH1032s3Bjs9VOajH/1o/A5VdIIuL069ymRCU6JH3h3l2eDLuMhQrlsGGFcGmSFkeLzOwuN86UtfGmvSvDF8MCA+sMpIZV1JgyfFscAnw8OLg+RHNOKlXbIB7bfu6902n1TimQrjjWHjed9994314H6HIMe4iApda+S83NQR9ybB1IwbgWBah3JLGSnhWAoKnEsEnoZMo13nM/d1IAOn4YyQBW/nGumYSNrKmK1yRpAvPazMn2UZQEYLr8rlGkYKEpIXHpeNA3kpHj7NKHMZKvfkpfhe4EST8vAQkzc0lhq0O8OzDFkk6PbnFYHsx9RJ+mF9jR7TGUkeyx8G52GHHRb9Ka9nyqXee1nVwPYNO2te2uaZpP3Kvf3tb4+QkF7lehwPS4TgnUJGCW1lM6Xu4kFUYzJnsBgEKdsA6gK6y4PiESpD3ujiFy/O8Xv44YfHF66zP7Iu0F+cA0cy0Xdd4MFY9SVenpo2yJP14MX48jtgHzPw+1LP8etZOjccARsSjCc+OA/5Xip+JkZpyFRQmIzfrBUrH58wKbF3fOLF/XwuFSMR9+UpHlR8CqUIqZfHud94HnnkkfGbzNIR8SXcc845J36LWGaHyOtcfVKZ7eK3aUUg8Ts2ZfyOrRiZyNvlQd5ly5a1ReDxmRd/UoEWvkD96kAXH347WjoifntXFCZ+I5h1d5E0SgfF531KJ9KQ+CzNaaed1mv/qBgn72KHtpRZOXTCbygdS6i08ukVD/zpc7pIJy+++OLQndRL6PZf8XpCH33a6KSTTmpPPvnk9qyzzgp9Afnog/KO8svji7mnnnpq5HPvoosuai+88ML47WeJIOLaF6eLYQh987vQCy64oKeTjq6f8IQnxHOpeIjBb/KWfOY1aAv+8OsTSf7rw29h8QDdvAn38EkexmrxEHufJ+uie108vfhNd/FEox5HvxU3JqC/bMrH/6QUrzTGyxZbbBHl8tl8MDXjNgyDhDcX0kgUS97744911lknDIZnjFPCtU43UPybks6mGOutt15bZseeUgAe5HfvvPPOa4srHXT9ED7pJJ/q15F+hLzrrrsGTcaqhL6tfxNKut12Jd+U1Seq8V28x/jssnzjyADGzb/YMQvt0ccmNf0/CKlH9EB7HeX3QQl6VLyQmCh32GGH+Bx90nOE448/Pr4jSN/ozsEHHxyTAlry5ID3KW4TOR3bdttt41PdKV/HPJe/S78fnuNx0POkMQj9z3I8zCWXrKdbLs9LuBvjpXjMMX6LtxnfXFRmLnqjYqprblBo9tzaRNdtHhVegfCTDi60t/XtuHDBcwvZeoF43rmv3foUeOmkyO/l2vzUd7duea1tWHOwzsF1t9CbUN5zCX2fqCmzXbjfQgK/hhBacJVLR/wXbefoW+T1TSvgWvsJVenIoLGUMUgH+vVksSP7PUO/hHboY22kf0IykF8S2uWrGfJ4BUN4mq85WXPyY3PvFFrjUl4Zmwe5tINO1iOkFbrhhb7ZqaWz9NfzBD7lybL98Fxdnvcj9bmbEv19iY629csFlHNfSpoJ5z5VZqOiGMcYW9b+hMB4GkRvLJQKpo60ypNCeYm77vMtRSjxuZz8hIzZiNu7ySabxF+Crb322mH1iyL0vDazkdkikdfccZ+SKYoTn5DJGcUsISx51ateFf87akYUFhcBx0yqHjPwICRtLryvwOKXm+1zSWh7Nu4spNysYpbb1g99L/k8Ea+Mh0Kv6FQxeO32228f//W51lpr/dfng3gzwvd+pC75UnOZmFmKnieYdU0TC9FXyaflqX322SeiIp6qv3sUhalzGvUuSuMGSUMM79tVOrzMWGGcGBOuOEOmczNRHOFmrvX18+GaUBmxMkP+1z0KY23CHwd3aUqMZ/5bE8PapeuessIHayrFw4vvWflM9YoVKyLvuIYN+nmvuHIi9cO6k38Co0v9+tVNa665ZrvbbrvFWlWW7cK1+5Zn6KR1YBO7f5nK789NCwulg9kGzsr6668f7c5PiwtvjbFpYI2DvPiyAOCCToLC08qzy8JELqqtYTurdkSFknYeudO2zW2F22b3rpvtd1vzdqFKx/yPW4sn7i5X3w6QPHnPUcjLjc/tdTuuwlafSvbPPurM/F3Ia2vdT2+Er7427F0ivGqDcpNgUhlWLB5kHwrbvE9mh5K+0k336Ihr710+7GEPix1Ou6bCWOjXYbpHbx29GiIfGl6dcI0WdMfRKJhL16atg/jC+/Lly+PdNi/qej1k99137714POl46cdqpbLxpDACkJxEKF1WlM/rLq3uPZ1crHxcUwKGaVCZcZF0CRrNpDWsXcOeTYJp06u4YkGngE6BSa94ML0+HjSox9WB/jqWOha1cQMdVsLGngeUxkZez3Jmy3xdJRmXh6QJSZcCSry6YfSyLD5B+f5ZdxxMKsOKxYnUDzrqvH8B3jN65hn9HUV30kAqk3o/TcO20DrY5d+4ns94GYQFMW7zQbIziVAXsjMWkvYgXN71LXVUec8eZsp/XUjlrIpfUXHlQg3OKyoqZhLVuFVUVMwkqnGrqKiYSVTjVlFRMZOoxq2iomImUY1bRUXFTKIat4qKiplENW4VFRUziWrcKioqZhLVuFVUVMwkqnGrqKiYSVTjVlFRMZOoxq2iomImUY1bRUXFTKIat4qKiplENW4VFRUziWrcKioqZhLVuFVUVMwkqnGrqKiYSVTjVlFRMZOoxq2iomImUY1bRUXFTKIat4qKihlE0/wffqWY++lIQYoAAAAASUVORK5CYII=)"
      ],
      "metadata": {
        "id": "2zCwbS-LXSrV"
      }
    },
    {
      "cell_type": "markdown",
      "source": [
        "![image.png](data:image/png;base64,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)"
      ],
      "metadata": {
        "id": "QcptP4WQXUAH"
      }
    },
    {
      "cell_type": "code",
      "source": [
        "x"
      ],
      "metadata": {
        "id": "HyP3FQVmd7pX"
      },
      "execution_count": null,
      "outputs": []
    },
    {
      "cell_type": "code",
      "source": [
        "for i in range (x.shape[1]):\n",
        "   print(f'El numero minimo en {i} es {np.min(x[:,i])}') \n",
        "   print(f'El numero maximo en {i} es {np.max(x[:,i])}') "
      ],
      "metadata": {
        "id": "DKNClsIJeFmm"
      },
      "execution_count": null,
      "outputs": []
    },
    {
      "cell_type": "code",
      "source": [
        "x/np.max(x,axis=0,keepdims=True)"
      ],
      "metadata": {
        "colab": {
          "base_uri": "https://localhost:8080/"
        },
        "id": "5ux9IjEnep5c",
        "outputId": "0ae15671-59f8-4dea-d6ed-9be6a9a13250"
      },
      "execution_count": null,
      "outputs": [
        {
          "output_type": "execute_result",
          "data": {
            "text/plain": [
              "array([[0.64556962, 0.79545455, 0.20289855, 0.08      ],\n",
              "       [0.62025316, 0.68181818, 0.20289855, 0.08      ],\n",
              "       [0.59493671, 0.72727273, 0.1884058 , 0.08      ],\n",
              "       [0.58227848, 0.70454545, 0.2173913 , 0.08      ],\n",
              "       [0.63291139, 0.81818182, 0.20289855, 0.08      ],\n",
              "       [0.6835443 , 0.88636364, 0.24637681, 0.16      ],\n",
              "       [0.58227848, 0.77272727, 0.20289855, 0.12      ],\n",
              "       [0.63291139, 0.77272727, 0.2173913 , 0.08      ],\n",
              "       [0.55696203, 0.65909091, 0.20289855, 0.08      ],\n",
              "       [0.62025316, 0.70454545, 0.2173913 , 0.04      ],\n",
              "       [0.6835443 , 0.84090909, 0.2173913 , 0.08      ],\n",
              "       [0.60759494, 0.77272727, 0.23188406, 0.08      ],\n",
              "       [0.60759494, 0.68181818, 0.20289855, 0.04      ],\n",
              "       [0.5443038 , 0.68181818, 0.15942029, 0.04      ],\n",
              "       [0.73417722, 0.90909091, 0.17391304, 0.08      ],\n",
              "       [0.72151899, 1.        , 0.2173913 , 0.16      ],\n",
              "       [0.6835443 , 0.88636364, 0.1884058 , 0.16      ],\n",
              "       [0.64556962, 0.79545455, 0.20289855, 0.12      ],\n",
              "       [0.72151899, 0.86363636, 0.24637681, 0.12      ],\n",
              "       [0.64556962, 0.86363636, 0.2173913 , 0.12      ],\n",
              "       [0.6835443 , 0.77272727, 0.24637681, 0.08      ],\n",
              "       [0.64556962, 0.84090909, 0.2173913 , 0.16      ],\n",
              "       [0.58227848, 0.81818182, 0.14492754, 0.08      ],\n",
              "       [0.64556962, 0.75      , 0.24637681, 0.2       ],\n",
              "       [0.60759494, 0.77272727, 0.27536232, 0.08      ],\n",
              "       [0.63291139, 0.68181818, 0.23188406, 0.08      ],\n",
              "       [0.63291139, 0.77272727, 0.23188406, 0.16      ],\n",
              "       [0.65822785, 0.79545455, 0.2173913 , 0.08      ],\n",
              "       [0.65822785, 0.77272727, 0.20289855, 0.08      ],\n",
              "       [0.59493671, 0.72727273, 0.23188406, 0.08      ],\n",
              "       [0.60759494, 0.70454545, 0.23188406, 0.08      ],\n",
              "       [0.6835443 , 0.77272727, 0.2173913 , 0.16      ],\n",
              "       [0.65822785, 0.93181818, 0.2173913 , 0.04      ],\n",
              "       [0.69620253, 0.95454545, 0.20289855, 0.08      ],\n",
              "       [0.62025316, 0.70454545, 0.2173913 , 0.08      ],\n",
              "       [0.63291139, 0.72727273, 0.17391304, 0.08      ],\n",
              "       [0.69620253, 0.79545455, 0.1884058 , 0.08      ],\n",
              "       [0.62025316, 0.81818182, 0.20289855, 0.04      ],\n",
              "       [0.55696203, 0.68181818, 0.1884058 , 0.08      ],\n",
              "       [0.64556962, 0.77272727, 0.2173913 , 0.08      ],\n",
              "       [0.63291139, 0.79545455, 0.1884058 , 0.12      ],\n",
              "       [0.56962025, 0.52272727, 0.1884058 , 0.12      ],\n",
              "       [0.55696203, 0.72727273, 0.1884058 , 0.08      ],\n",
              "       [0.63291139, 0.79545455, 0.23188406, 0.24      ],\n",
              "       [0.64556962, 0.86363636, 0.27536232, 0.16      ],\n",
              "       [0.60759494, 0.68181818, 0.20289855, 0.12      ],\n",
              "       [0.64556962, 0.86363636, 0.23188406, 0.08      ],\n",
              "       [0.58227848, 0.72727273, 0.20289855, 0.08      ],\n",
              "       [0.67088608, 0.84090909, 0.2173913 , 0.08      ],\n",
              "       [0.63291139, 0.75      , 0.20289855, 0.08      ],\n",
              "       [0.88607595, 0.72727273, 0.68115942, 0.56      ],\n",
              "       [0.81012658, 0.72727273, 0.65217391, 0.6       ],\n",
              "       [0.87341772, 0.70454545, 0.71014493, 0.6       ],\n",
              "       [0.69620253, 0.52272727, 0.57971014, 0.52      ],\n",
              "       [0.82278481, 0.63636364, 0.66666667, 0.6       ],\n",
              "       [0.72151899, 0.63636364, 0.65217391, 0.52      ],\n",
              "       [0.79746835, 0.75      , 0.68115942, 0.64      ],\n",
              "       [0.62025316, 0.54545455, 0.47826087, 0.4       ],\n",
              "       [0.83544304, 0.65909091, 0.66666667, 0.52      ],\n",
              "       [0.65822785, 0.61363636, 0.56521739, 0.56      ],\n",
              "       [0.63291139, 0.45454545, 0.50724638, 0.4       ],\n",
              "       [0.74683544, 0.68181818, 0.60869565, 0.6       ],\n",
              "       [0.75949367, 0.5       , 0.57971014, 0.4       ],\n",
              "       [0.7721519 , 0.65909091, 0.68115942, 0.56      ],\n",
              "       [0.70886076, 0.65909091, 0.52173913, 0.52      ],\n",
              "       [0.84810127, 0.70454545, 0.63768116, 0.56      ],\n",
              "       [0.70886076, 0.68181818, 0.65217391, 0.6       ],\n",
              "       [0.73417722, 0.61363636, 0.5942029 , 0.4       ],\n",
              "       [0.78481013, 0.5       , 0.65217391, 0.6       ],\n",
              "       [0.70886076, 0.56818182, 0.56521739, 0.44      ],\n",
              "       [0.74683544, 0.72727273, 0.69565217, 0.72      ],\n",
              "       [0.7721519 , 0.63636364, 0.57971014, 0.52      ],\n",
              "       [0.79746835, 0.56818182, 0.71014493, 0.6       ],\n",
              "       [0.7721519 , 0.63636364, 0.68115942, 0.48      ],\n",
              "       [0.81012658, 0.65909091, 0.62318841, 0.52      ],\n",
              "       [0.83544304, 0.68181818, 0.63768116, 0.56      ],\n",
              "       [0.86075949, 0.63636364, 0.69565217, 0.56      ],\n",
              "       [0.84810127, 0.68181818, 0.72463768, 0.68      ],\n",
              "       [0.75949367, 0.65909091, 0.65217391, 0.6       ],\n",
              "       [0.72151899, 0.59090909, 0.50724638, 0.4       ],\n",
              "       [0.69620253, 0.54545455, 0.55072464, 0.44      ],\n",
              "       [0.69620253, 0.54545455, 0.53623188, 0.4       ],\n",
              "       [0.73417722, 0.61363636, 0.56521739, 0.48      ],\n",
              "       [0.75949367, 0.61363636, 0.73913043, 0.64      ],\n",
              "       [0.6835443 , 0.68181818, 0.65217391, 0.6       ],\n",
              "       [0.75949367, 0.77272727, 0.65217391, 0.64      ],\n",
              "       [0.84810127, 0.70454545, 0.68115942, 0.6       ],\n",
              "       [0.79746835, 0.52272727, 0.63768116, 0.52      ],\n",
              "       [0.70886076, 0.68181818, 0.5942029 , 0.52      ],\n",
              "       [0.69620253, 0.56818182, 0.57971014, 0.52      ],\n",
              "       [0.69620253, 0.59090909, 0.63768116, 0.48      ],\n",
              "       [0.7721519 , 0.68181818, 0.66666667, 0.56      ],\n",
              "       [0.73417722, 0.59090909, 0.57971014, 0.48      ],\n",
              "       [0.63291139, 0.52272727, 0.47826087, 0.4       ],\n",
              "       [0.70886076, 0.61363636, 0.60869565, 0.52      ],\n",
              "       [0.72151899, 0.68181818, 0.60869565, 0.48      ],\n",
              "       [0.72151899, 0.65909091, 0.60869565, 0.52      ],\n",
              "       [0.78481013, 0.65909091, 0.62318841, 0.52      ],\n",
              "       [0.64556962, 0.56818182, 0.43478261, 0.44      ],\n",
              "       [0.72151899, 0.63636364, 0.5942029 , 0.52      ],\n",
              "       [0.79746835, 0.75      , 0.86956522, 1.        ],\n",
              "       [0.73417722, 0.61363636, 0.73913043, 0.76      ],\n",
              "       [0.89873418, 0.68181818, 0.85507246, 0.84      ],\n",
              "       [0.79746835, 0.65909091, 0.8115942 , 0.72      ],\n",
              "       [0.82278481, 0.68181818, 0.84057971, 0.88      ],\n",
              "       [0.96202532, 0.68181818, 0.95652174, 0.84      ],\n",
              "       [0.62025316, 0.56818182, 0.65217391, 0.68      ],\n",
              "       [0.92405063, 0.65909091, 0.91304348, 0.72      ],\n",
              "       [0.84810127, 0.56818182, 0.84057971, 0.72      ],\n",
              "       [0.91139241, 0.81818182, 0.88405797, 1.        ],\n",
              "       [0.82278481, 0.72727273, 0.73913043, 0.8       ],\n",
              "       [0.81012658, 0.61363636, 0.76811594, 0.76      ],\n",
              "       [0.86075949, 0.68181818, 0.79710145, 0.84      ],\n",
              "       [0.72151899, 0.56818182, 0.72463768, 0.8       ],\n",
              "       [0.73417722, 0.63636364, 0.73913043, 0.96      ],\n",
              "       [0.81012658, 0.72727273, 0.76811594, 0.92      ],\n",
              "       [0.82278481, 0.68181818, 0.79710145, 0.72      ],\n",
              "       [0.97468354, 0.86363636, 0.97101449, 0.88      ],\n",
              "       [0.97468354, 0.59090909, 1.        , 0.92      ],\n",
              "       [0.75949367, 0.5       , 0.72463768, 0.6       ],\n",
              "       [0.87341772, 0.72727273, 0.82608696, 0.92      ],\n",
              "       [0.70886076, 0.63636364, 0.71014493, 0.8       ],\n",
              "       [0.97468354, 0.63636364, 0.97101449, 0.8       ],\n",
              "       [0.79746835, 0.61363636, 0.71014493, 0.72      ],\n",
              "       [0.84810127, 0.75      , 0.82608696, 0.84      ],\n",
              "       [0.91139241, 0.72727273, 0.86956522, 0.72      ],\n",
              "       [0.78481013, 0.63636364, 0.69565217, 0.72      ],\n",
              "       [0.7721519 , 0.68181818, 0.71014493, 0.72      ],\n",
              "       [0.81012658, 0.63636364, 0.8115942 , 0.84      ],\n",
              "       [0.91139241, 0.68181818, 0.84057971, 0.64      ],\n",
              "       [0.93670886, 0.63636364, 0.88405797, 0.76      ],\n",
              "       [1.        , 0.86363636, 0.92753623, 0.8       ],\n",
              "       [0.81012658, 0.63636364, 0.8115942 , 0.88      ],\n",
              "       [0.79746835, 0.63636364, 0.73913043, 0.6       ],\n",
              "       [0.7721519 , 0.59090909, 0.8115942 , 0.56      ],\n",
              "       [0.97468354, 0.68181818, 0.88405797, 0.92      ],\n",
              "       [0.79746835, 0.77272727, 0.8115942 , 0.96      ],\n",
              "       [0.81012658, 0.70454545, 0.79710145, 0.72      ],\n",
              "       [0.75949367, 0.68181818, 0.69565217, 0.72      ],\n",
              "       [0.87341772, 0.70454545, 0.7826087 , 0.84      ],\n",
              "       [0.84810127, 0.70454545, 0.8115942 , 0.96      ],\n",
              "       [0.87341772, 0.70454545, 0.73913043, 0.92      ],\n",
              "       [0.73417722, 0.61363636, 0.73913043, 0.76      ],\n",
              "       [0.86075949, 0.72727273, 0.85507246, 0.92      ],\n",
              "       [0.84810127, 0.75      , 0.82608696, 1.        ],\n",
              "       [0.84810127, 0.68181818, 0.75362319, 0.92      ],\n",
              "       [0.79746835, 0.56818182, 0.72463768, 0.76      ],\n",
              "       [0.82278481, 0.68181818, 0.75362319, 0.8       ],\n",
              "       [0.78481013, 0.77272727, 0.7826087 , 0.92      ],\n",
              "       [0.74683544, 0.68181818, 0.73913043, 0.72      ]])"
            ]
          },
          "metadata": {},
          "execution_count": 56
        }
      ]
    },
    {
      "cell_type": "code",
      "source": [
        "nn = NeuralNet(x.shape[1],8,y.max()+1)\n",
        "nn.backprop(x,y)"
      ],
      "metadata": {
        "colab": {
          "base_uri": "https://localhost:8080/"
        },
        "id": "RnSdHDIqe-_R",
        "outputId": "203568f4-62c4-4a90-fbec-c1da82286a37"
      },
      "execution_count": null,
      "outputs": [
        {
          "output_type": "execute_result",
          "data": {
            "text/plain": [
              "(array([[ -9.98438325,  -1.98765741,  11.97204066],\n",
              "        [ 18.45380231,  -5.9459149 , -12.50788741],\n",
              "        [-26.12492495, -13.47182085,  39.5967458 ],\n",
              "        [  0.        ,   0.        ,   0.        ],\n",
              "        [-26.40099421,  -5.12342394,  31.52441815],\n",
              "        [ 28.46240475, -31.5901501 ,   3.12774534],\n",
              "        [  6.6168126 ,  -2.51096539,  -4.10584721],\n",
              "        [  0.        ,   0.        ,   0.        ]]),\n",
              " array([[-17.47971044, -12.61742267,  30.09713311]]),\n",
              " array([[-20.8606108 ,  40.7977174 ,  20.57440069,   0.        ,\n",
              "          -2.08125805,  -1.42214546,   0.41670119,   0.        ],\n",
              "        [-17.54755296,  33.24587167,  30.1642462 ,   0.        ,\n",
              "          -8.88590752,   2.39323914,  -0.9979186 ,   0.        ],\n",
              "        [-15.16793677,  37.11513184,  -1.9574765 ,   0.        ,\n",
              "           7.7320015 ,  -5.64732444,   2.6266469 ,   0.        ],\n",
              "        [-11.11653787,  35.15746921,  -9.39186126,   0.        ,\n",
              "           9.74080189,  -6.0980531 ,   3.31827622,   0.        ]]),\n",
              " array([[-29.78342928,  51.17242634,  38.42685426,   0.        ,\n",
              "          -7.84062332,   0.37828503,  -0.93837176,   0.        ]]))"
            ]
          },
          "metadata": {},
          "execution_count": 103
        }
      ]
    },
    {
      "cell_type": "code",
      "source": [
        "nn = NeuralNet(x.shape[1], 8, y.max() + 1)\n",
        "nn.train(250, x, y, 0.001)"
      ],
      "metadata": {
        "colab": {
          "base_uri": "https://localhost:8080/",
          "height": 430
        },
        "id": "po60UPwNlqSb",
        "outputId": "d3550b63-b576-4be6-ec18-41cc9677a9ce"
      },
      "execution_count": null,
      "outputs": [
        {
          "output_type": "display_data",
          "data": {
            "text/plain": [
              "<Figure size 640x480 with 1 Axes>"
            ],
            "image/png": "[encoded data removed]"
          },
          "metadata": {}
        }
      ]
    },
    {
      "cell_type": "code",
      "source": [],
      "metadata": {
        "id": "ZgRoEA-VnPks"
      },
      "execution_count": null,
      "outputs": []
    }
  ]
}