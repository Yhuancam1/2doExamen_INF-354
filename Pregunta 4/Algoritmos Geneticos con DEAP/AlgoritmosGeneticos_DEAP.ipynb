{
  "nbformat": 4,
  "nbformat_minor": 0,
  "metadata": {
    "colab": {
      "provenance": []
    },
    "kernelspec": {
      "name": "python3",
      "display_name": "Python 3"
    },
    "language_info": {
      "name": "python"
    }
  },
  "cells": [
    {
      "cell_type": "code",
      "source": [
        "!pip install deap"
      ],
      "metadata": {
        "colab": {
          "base_uri": "https://localhost:8080/"
        },
        "id": "Y0Ovm0lRTejS",
        "outputId": "14ac7b27-29fa-4a9c-8172-67d7c028d0ed"
      },
      "execution_count": null,
      "outputs": [
        {
          "output_type": "stream",
          "name": "stdout",
          "text": [
            "Looking in indexes: https://pypi.org/simple, https://us-python.pkg.dev/colab-wheels/public/simple/\n",
            "Collecting deap\n",
            "  Downloading deap-1.3.3-cp310-cp310-manylinux_2_5_x86_64.manylinux1_x86_64.manylinux_2_17_x86_64.manylinux2014_x86_64.whl (139 kB)\n",
            "\u001b[2K     \u001b[90m━━━━━━━━━━━━━━━━━━━━━━━━━━━━━━━━━━━━━━\u001b[0m \u001b[32m139.9/139.9 kB\u001b[0m \u001b[31m13.4 MB/s\u001b[0m eta \u001b[36m0:00:00\u001b[0m\n",
            "\u001b[?25hRequirement already satisfied: numpy in /usr/local/lib/python3.10/dist-packages (from deap) (1.22.4)\n",
            "Installing collected packages: deap\n",
            "Successfully installed deap-1.3.3\n"
          ]
        }
      ]
    },
    {
      "cell_type": "code",
      "source": [
        "from deap import creator, base, tools, algorithms"
      ],
      "metadata": {
        "id": "TS873862SeGw"
      },
      "execution_count": null,
      "outputs": []
    },
    {
      "cell_type": "code",
      "source": [
        "import numpy as np\n",
        "import matplotlib.pyplot as plt"
      ],
      "metadata": {
        "id": "r9pdkOkySk93"
      },
      "execution_count": null,
      "outputs": []
    },
    {
      "cell_type": "code",
      "source": [
        "toolbox = base.Toolbox()\n",
        "n = 5\n",
        "\n",
        "creator.create(\"FitnessMin\", base.Fitness, weights=(-1.0,))\n",
        "creator.create(\"EstrIndividuo\", list, fitness=creator.FitnessMin)\n",
        "\n",
        "toolbox.register(\"Genes\", np.random.permutation, n)\n",
        "toolbox.register(\"Individuos\", tools.initIterate, creator.EstrIndividuo, toolbox.Genes)"
      ],
      "metadata": {
        "id": "A0eIn1yqbB2j"
      },
      "execution_count": null,
      "outputs": []
    },
    {
      "cell_type": "code",
      "source": [
        "toolbox.register(\"Populacao\",tools.initRepeat, list, toolbox.Individuos)"
      ],
      "metadata": {
        "id": "U0PTj1QRQ_Wp"
      },
      "execution_count": null,
      "outputs": []
    },
    {
      "cell_type": "code",
      "source": [
        "pop=toolbox.Populacao(n=10)"
      ],
      "metadata": {
        "id": "xk7z3M_RRNHM"
      },
      "execution_count": null,
      "outputs": []
    },
    {
      "cell_type": "code",
      "source": [
        "toolbox.register(\"mate\", tools.cxPartialyMatched)\n",
        "toolbox.register(\"mutate\", tools.mutShuffleIndexes, indpb=0.1)\n",
        "toolbox.register(\"select\", tools.selTournament, tournsize=2)"
      ],
      "metadata": {
        "id": "6GiMOR5nRSCg"
      },
      "execution_count": null,
      "outputs": []
    },
    {
      "cell_type": "code",
      "source": [
        "dist = [[0,7,9,8,20],\n",
        "        [7,0,10,4,11],\n",
        "        [9,10,0,15,5],\n",
        "        [8,4,15,0,17],\n",
        "        [20,11,5,17,0]]"
      ],
      "metadata": {
        "id": "maN1d-Q4R20_"
      },
      "execution_count": null,
      "outputs": []
    },
    {
      "cell_type": "code",
      "source": [
        "def aptidao(individuo):\n",
        "  f=0\n",
        "  for i in range(n - 1):\n",
        "    local1 = individuo[i]\n",
        "    local2 = individuo[i+1]\n",
        "    distancia = dist[local1][local2]\n",
        "    f = f + distancia\n",
        "\n",
        "  return f,\n"
      ],
      "metadata": {
        "id": "vpZr4RKDSZC2"
      },
      "execution_count": null,
      "outputs": []
    },
    {
      "cell_type": "code",
      "source": [
        "toolbox.register(\"evaluate\", aptidao)"
      ],
      "metadata": {
        "id": "JHo-s2nbaj3U"
      },
      "execution_count": null,
      "outputs": []
    },
    {
      "cell_type": "code",
      "source": [
        "def estatisticaSalvar(individuo):\n",
        "  return individuo.fitness.values"
      ],
      "metadata": {
        "id": "pH3XW61QdMxo"
      },
      "execution_count": null,
      "outputs": []
    },
    {
      "cell_type": "code",
      "source": [
        "estatistica = tools.Statistics(estatisticaSalvar)\n",
        "estatistica.register('mean', np.mean)\n",
        "estatistica.register('min', np.min)\n",
        "estatistica.register('max', np.max)"
      ],
      "metadata": {
        "id": "0sJXnqNpdeXN"
      },
      "execution_count": null,
      "outputs": []
    },
    {
      "cell_type": "code",
      "source": [
        "hof = tools.HallOfFame(1)"
      ],
      "metadata": {
        "id": "xir435DhdxRE"
      },
      "execution_count": null,
      "outputs": []
    },
    {
      "cell_type": "code",
      "source": [
        "result, log = algorithms.eaSimple(pop,\n",
        "                            toolbox,\n",
        "                            cxpb=0.8,\n",
        "                            mutpb=0.1,\n",
        "                            stats=estatistica,\n",
        "                            ngen=30,\n",
        "                            halloffame=hof,\n",
        "                            verbose=True)"
      ],
      "metadata": {
        "colab": {
          "base_uri": "https://localhost:8080/"
        },
        "id": "ZiYpyNtod7gA",
        "outputId": "e40607aa-47f8-4b2f-dee5-501e9226b7c8"
      },
      "execution_count": null,
      "outputs": [
        {
          "output_type": "stream",
          "name": "stdout",
          "text": [
            "gen\tnevals\tmean\tmin\tmax\n",
            "0  \t0     \t25  \t25 \t25 \n",
            "1  \t10    \t25  \t25 \t25 \n",
            "2  \t9     \t28.1\t25 \t56 \n",
            "3  \t10    \t25  \t25 \t25 \n",
            "4  \t8     \t25  \t25 \t25 \n",
            "5  \t8     \t25  \t25 \t25 \n",
            "6  \t8     \t25  \t25 \t25 \n",
            "7  \t8     \t25  \t25 \t25 \n",
            "8  \t8     \t25  \t25 \t25 \n",
            "9  \t6     \t26.1\t25 \t36 \n",
            "10 \t8     \t25.4\t25 \t29 \n",
            "11 \t6     \t25  \t25 \t25 \n",
            "12 \t10    \t25.4\t25 \t29 \n",
            "13 \t6     \t25  \t25 \t25 \n",
            "14 \t9     \t25  \t25 \t25 \n",
            "15 \t8     \t26.4\t25 \t39 \n",
            "16 \t7     \t25  \t25 \t25 \n",
            "17 \t10    \t25  \t25 \t25 \n",
            "18 \t10    \t28.6\t25 \t44 \n",
            "19 \t6     \t25  \t25 \t25 \n",
            "20 \t7     \t25.6\t25 \t31 \n",
            "21 \t6     \t25  \t25 \t25 \n",
            "22 \t10    \t25  \t25 \t25 \n",
            "23 \t10    \t26.7\t25 \t42 \n",
            "24 \t10    \t25  \t25 \t25 \n",
            "25 \t5     \t25  \t25 \t25 \n",
            "26 \t10    \t25  \t25 \t25 \n",
            "27 \t10    \t26.7\t25 \t42 \n",
            "28 \t8     \t25  \t25 \t25 \n",
            "29 \t5     \t28.1\t25 \t56 \n",
            "30 \t8     \t25  \t25 \t25 \n"
          ]
        }
      ]
    },
    {
      "cell_type": "code",
      "source": [
        "print(result)"
      ],
      "metadata": {
        "colab": {
          "base_uri": "https://localhost:8080/"
        },
        "id": "HCoRJPEAe9nw",
        "outputId": "ce76bc98-9ae3-4cec-8234-e32b3ade4c0f"
      },
      "execution_count": null,
      "outputs": [
        {
          "output_type": "stream",
          "name": "stdout",
          "text": [
            "[[4, 2, 0, 1, 3], [4, 2, 0, 1, 3], [4, 2, 0, 1, 3], [4, 2, 0, 1, 3], [4, 2, 0, 1, 3], [4, 2, 0, 1, 3], [4, 2, 0, 1, 3], [4, 2, 0, 1, 3], [4, 2, 0, 1, 3], [4, 2, 0, 1, 3]]\n"
          ]
        }
      ]
    },
    {
      "cell_type": "code",
      "source": [
        "print(hof)"
      ],
      "metadata": {
        "colab": {
          "base_uri": "https://localhost:8080/"
        },
        "id": "4ry2WiKffChG",
        "outputId": "e1a83063-0433-466b-d404-c081a2b50d29"
      },
      "execution_count": null,
      "outputs": [
        {
          "output_type": "stream",
          "name": "stdout",
          "text": [
            "[[4, 2, 0, 1, 3]]\n"
          ]
        }
      ]
    },
    {
      "cell_type": "code",
      "source": [
        "melhor = hof[0]\n",
        "print(aptidao(melhor))"
      ],
      "metadata": {
        "colab": {
          "base_uri": "https://localhost:8080/"
        },
        "id": "9MVkJP7sfHw2",
        "outputId": "bdf6fa2e-b0b6-4926-f0e2-e1cf9693507a"
      },
      "execution_count": null,
      "outputs": [
        {
          "output_type": "stream",
          "name": "stdout",
          "text": [
            "(25,)\n"
          ]
        }
      ]
    },
    {
      "cell_type": "code",
      "source": [
        "log"
      ],
      "metadata": {
        "colab": {
          "base_uri": "https://localhost:8080/"
        },
        "id": "8OyYn17Zfdfy",
        "outputId": "9393cbf5-a228-4689-c26c-6c7a19b0c968"
      },
      "execution_count": null,
      "outputs": [
        {
          "output_type": "execute_result",
          "data": {
            "text/plain": [
              "[{'gen': 0, 'nevals': 0, 'mean': 25.0, 'min': 25.0, 'max': 25.0},\n",
              " {'gen': 1, 'nevals': 10, 'mean': 25.0, 'min': 25.0, 'max': 25.0},\n",
              " {'gen': 2, 'nevals': 9, 'mean': 28.1, 'min': 25.0, 'max': 56.0},\n",
              " {'gen': 3, 'nevals': 10, 'mean': 25.0, 'min': 25.0, 'max': 25.0},\n",
              " {'gen': 4, 'nevals': 8, 'mean': 25.0, 'min': 25.0, 'max': 25.0},\n",
              " {'gen': 5, 'nevals': 8, 'mean': 25.0, 'min': 25.0, 'max': 25.0},\n",
              " {'gen': 6, 'nevals': 8, 'mean': 25.0, 'min': 25.0, 'max': 25.0},\n",
              " {'gen': 7, 'nevals': 8, 'mean': 25.0, 'min': 25.0, 'max': 25.0},\n",
              " {'gen': 8, 'nevals': 8, 'mean': 25.0, 'min': 25.0, 'max': 25.0},\n",
              " {'gen': 9, 'nevals': 6, 'mean': 26.1, 'min': 25.0, 'max': 36.0},\n",
              " {'gen': 10, 'nevals': 8, 'mean': 25.4, 'min': 25.0, 'max': 29.0},\n",
              " {'gen': 11, 'nevals': 6, 'mean': 25.0, 'min': 25.0, 'max': 25.0},\n",
              " {'gen': 12, 'nevals': 10, 'mean': 25.4, 'min': 25.0, 'max': 29.0},\n",
              " {'gen': 13, 'nevals': 6, 'mean': 25.0, 'min': 25.0, 'max': 25.0},\n",
              " {'gen': 14, 'nevals': 9, 'mean': 25.0, 'min': 25.0, 'max': 25.0},\n",
              " {'gen': 15, 'nevals': 8, 'mean': 26.4, 'min': 25.0, 'max': 39.0},\n",
              " {'gen': 16, 'nevals': 7, 'mean': 25.0, 'min': 25.0, 'max': 25.0},\n",
              " {'gen': 17, 'nevals': 10, 'mean': 25.0, 'min': 25.0, 'max': 25.0},\n",
              " {'gen': 18, 'nevals': 10, 'mean': 28.6, 'min': 25.0, 'max': 44.0},\n",
              " {'gen': 19, 'nevals': 6, 'mean': 25.0, 'min': 25.0, 'max': 25.0},\n",
              " {'gen': 20, 'nevals': 7, 'mean': 25.6, 'min': 25.0, 'max': 31.0},\n",
              " {'gen': 21, 'nevals': 6, 'mean': 25.0, 'min': 25.0, 'max': 25.0},\n",
              " {'gen': 22, 'nevals': 10, 'mean': 25.0, 'min': 25.0, 'max': 25.0},\n",
              " {'gen': 23, 'nevals': 10, 'mean': 26.7, 'min': 25.0, 'max': 42.0},\n",
              " {'gen': 24, 'nevals': 10, 'mean': 25.0, 'min': 25.0, 'max': 25.0},\n",
              " {'gen': 25, 'nevals': 5, 'mean': 25.0, 'min': 25.0, 'max': 25.0},\n",
              " {'gen': 26, 'nevals': 10, 'mean': 25.0, 'min': 25.0, 'max': 25.0},\n",
              " {'gen': 27, 'nevals': 10, 'mean': 26.7, 'min': 25.0, 'max': 42.0},\n",
              " {'gen': 28, 'nevals': 8, 'mean': 25.0, 'min': 25.0, 'max': 25.0},\n",
              " {'gen': 29, 'nevals': 5, 'mean': 28.1, 'min': 25.0, 'max': 56.0},\n",
              " {'gen': 30, 'nevals': 8, 'mean': 25.0, 'min': 25.0, 'max': 25.0}]"
            ]
          },
          "metadata": {},
          "execution_count": 46
        }
      ]
    },
    {
      "cell_type": "code",
      "source": [
        "menores = log.select('min')\n",
        "maiores = log.select('max')\n",
        "media = log.select('mean')"
      ],
      "metadata": {
        "id": "8GsiO_Gefps2"
      },
      "execution_count": null,
      "outputs": []
    },
    {
      "cell_type": "code",
      "source": [
        "plt.plot(menores, label=\"Menores\")\n",
        "plt.plot(maiores, label=\"Mayores\")\n",
        "plt.plot(media, label=\"Media\")\n",
        "plt.xlabel(\"Generacion\")\n",
        "plt.ylabel(\"Aptitud\")"
      ],
      "metadata": {
        "colab": {
          "base_uri": "https://localhost:8080/",
          "height": 467
        },
        "id": "LE8jO9kLf3xl",
        "outputId": "94b91e2e-52e9-40ed-8cb4-6b9598873a25"
      },
      "execution_count": null,
      "outputs": [
        {
          "output_type": "execute_result",
          "data": {
            "text/plain": [
              "Text(0, 0.5, 'Aptitud')"
            ]
          },
          "metadata": {},
          "execution_count": 52
        },
        {
          "output_type": "display_data",
          "data": {
            "text/plain": [
              "<Figure size 640x480 with 1 Axes>"
            ],
            "image/png": "[encoded data removed]"
          },
          "metadata": {}
        }
      ]
    }
  ]
}